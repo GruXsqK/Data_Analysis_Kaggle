{
 "cells": [
  {
   "cell_type": "markdown",
   "metadata": {},
   "source": [
    "__Основное задание:__\n",
    "\n",
    "_Даны выборки для обучения и для тестирования. Задание заключается в том, чтобы попробовать разные способы валидации, проанализировать плюсы / минусы каждой и сделать выводы о том, какой способ валидации наиболее устойчивый в данной задаче. Метрика качества для оценки прогнозов -_ __ROC-AUC,__ _название целевой переменной -_ __IsFraud.__ _Рекомендуется использовать модели градиетного бустинга, реализация любая / гипепараметры любые._ __Внимание!__ _выборка assignment_2_test.csv - наш аналог лидерборда. Будем моделировать ситуацию отправки решения на лидерборд и сравнить значение метрики на лидерборде и на локальной валидации._ __Для других целей использовать выборку запрещено!.__\n",
    "\n",
    "\n",
    "__Терминалогия, используемая в задании:__\n",
    "\n",
    "_* обучающая выборка - выборка, которая передается в метод fit / train;_\n",
    "\n",
    "_* валидационная выборка - выборка, которая получается при Hold-Out на 2 выборки (train, valid);_\n",
    "\n",
    "_* тестовая выборка - выборка, которая получается при Hold-Out на 3 выборки (train, valid, test);_\n",
    "\n",
    "_* ЛБ - лидерборд, выборка assignment_2_test.csv._"
   ]
  },
  {
   "cell_type": "markdown",
   "metadata": {},
   "source": [
    "__Задание 1:__ _сделать Hold-Out валидацию с разбиением, размер которого будет адеквтаным, по вашему мнению; разбиение проводить по id-транзакции (TransactionID), обучать модель градиетного бустинга любой реализации с подбором числа деревьев по early_stopping критерию до достижения сходимости. Оценить качество модели на валидационной выборке, оценить расхождение по сравнению с качеством на обучающей выборке и валидационной выборке. Оценить качество на ЛБ, сравнить с качеством на обучении и валидации. Сделать выводы._"
   ]
  },
  {
   "cell_type": "code",
   "execution_count": 1,
   "metadata": {},
   "outputs": [],
   "source": [
    "import pandas as pd\n",
    "import numpy as np\n",
    "import xgboost as xgb\n",
    "import matplotlib.pyplot as plt\n",
    "import seaborn as sns\n",
    "\n",
    "from typing import List, Tuple\n",
    "from sklearn.model_selection import train_test_split, StratifiedKFold, GroupKFold\n",
    "from sklearn.metrics import roc_auc_score\n",
    "\n",
    "%matplotlib inline"
   ]
  },
  {
   "cell_type": "code",
   "execution_count": 2,
   "metadata": {},
   "outputs": [
    {
     "name": "stdout",
     "output_type": "stream",
     "text": [
      "data.shape = 180000 rows, 394 cols\n",
      "leaderboard.shape = 100001 rows, 394 cols\n"
     ]
    }
   ],
   "source": [
    "data = pd.read_csv(\"data/assignment_2_train.csv\")\n",
    "leaderboard = pd.read_csv(\"data/assignment_2_test.csv\")\n",
    "\n",
    "print(\"data.shape = {} rows, {} cols\".format(*data.shape))\n",
    "print(\"leaderboard.shape = {} rows, {} cols\".format(*leaderboard.shape))"
   ]
  },
  {
   "cell_type": "code",
   "execution_count": 3,
   "metadata": {},
   "outputs": [
    {
     "data": {
      "text/html": [
       "<div>\n",
       "<style scoped>\n",
       "    .dataframe tbody tr th:only-of-type {\n",
       "        vertical-align: middle;\n",
       "    }\n",
       "\n",
       "    .dataframe tbody tr th {\n",
       "        vertical-align: top;\n",
       "    }\n",
       "\n",
       "    .dataframe thead th {\n",
       "        text-align: right;\n",
       "    }\n",
       "</style>\n",
       "<table border=\"1\" class=\"dataframe\">\n",
       "  <thead>\n",
       "    <tr style=\"text-align: right;\">\n",
       "      <th></th>\n",
       "      <th>TransactionID</th>\n",
       "      <th>isFraud</th>\n",
       "      <th>TransactionDT</th>\n",
       "      <th>TransactionAmt</th>\n",
       "      <th>ProductCD</th>\n",
       "      <th>card1</th>\n",
       "      <th>card2</th>\n",
       "      <th>card3</th>\n",
       "      <th>card4</th>\n",
       "      <th>card5</th>\n",
       "      <th>...</th>\n",
       "      <th>V330</th>\n",
       "      <th>V331</th>\n",
       "      <th>V332</th>\n",
       "      <th>V333</th>\n",
       "      <th>V334</th>\n",
       "      <th>V335</th>\n",
       "      <th>V336</th>\n",
       "      <th>V337</th>\n",
       "      <th>V338</th>\n",
       "      <th>V339</th>\n",
       "    </tr>\n",
       "  </thead>\n",
       "  <tbody>\n",
       "    <tr>\n",
       "      <th>0</th>\n",
       "      <td>2987000</td>\n",
       "      <td>0</td>\n",
       "      <td>86400</td>\n",
       "      <td>68.5</td>\n",
       "      <td>W</td>\n",
       "      <td>13926</td>\n",
       "      <td>NaN</td>\n",
       "      <td>150.0</td>\n",
       "      <td>discover</td>\n",
       "      <td>142.0</td>\n",
       "      <td>...</td>\n",
       "      <td>NaN</td>\n",
       "      <td>NaN</td>\n",
       "      <td>NaN</td>\n",
       "      <td>NaN</td>\n",
       "      <td>NaN</td>\n",
       "      <td>NaN</td>\n",
       "      <td>NaN</td>\n",
       "      <td>NaN</td>\n",
       "      <td>NaN</td>\n",
       "      <td>NaN</td>\n",
       "    </tr>\n",
       "    <tr>\n",
       "      <th>1</th>\n",
       "      <td>2987001</td>\n",
       "      <td>0</td>\n",
       "      <td>86401</td>\n",
       "      <td>29.0</td>\n",
       "      <td>W</td>\n",
       "      <td>2755</td>\n",
       "      <td>404.0</td>\n",
       "      <td>150.0</td>\n",
       "      <td>mastercard</td>\n",
       "      <td>102.0</td>\n",
       "      <td>...</td>\n",
       "      <td>NaN</td>\n",
       "      <td>NaN</td>\n",
       "      <td>NaN</td>\n",
       "      <td>NaN</td>\n",
       "      <td>NaN</td>\n",
       "      <td>NaN</td>\n",
       "      <td>NaN</td>\n",
       "      <td>NaN</td>\n",
       "      <td>NaN</td>\n",
       "      <td>NaN</td>\n",
       "    </tr>\n",
       "    <tr>\n",
       "      <th>2</th>\n",
       "      <td>2987002</td>\n",
       "      <td>0</td>\n",
       "      <td>86469</td>\n",
       "      <td>59.0</td>\n",
       "      <td>W</td>\n",
       "      <td>4663</td>\n",
       "      <td>490.0</td>\n",
       "      <td>150.0</td>\n",
       "      <td>visa</td>\n",
       "      <td>166.0</td>\n",
       "      <td>...</td>\n",
       "      <td>NaN</td>\n",
       "      <td>NaN</td>\n",
       "      <td>NaN</td>\n",
       "      <td>NaN</td>\n",
       "      <td>NaN</td>\n",
       "      <td>NaN</td>\n",
       "      <td>NaN</td>\n",
       "      <td>NaN</td>\n",
       "      <td>NaN</td>\n",
       "      <td>NaN</td>\n",
       "    </tr>\n",
       "    <tr>\n",
       "      <th>3</th>\n",
       "      <td>2987003</td>\n",
       "      <td>0</td>\n",
       "      <td>86499</td>\n",
       "      <td>50.0</td>\n",
       "      <td>W</td>\n",
       "      <td>18132</td>\n",
       "      <td>567.0</td>\n",
       "      <td>150.0</td>\n",
       "      <td>mastercard</td>\n",
       "      <td>117.0</td>\n",
       "      <td>...</td>\n",
       "      <td>NaN</td>\n",
       "      <td>NaN</td>\n",
       "      <td>NaN</td>\n",
       "      <td>NaN</td>\n",
       "      <td>NaN</td>\n",
       "      <td>NaN</td>\n",
       "      <td>NaN</td>\n",
       "      <td>NaN</td>\n",
       "      <td>NaN</td>\n",
       "      <td>NaN</td>\n",
       "    </tr>\n",
       "    <tr>\n",
       "      <th>4</th>\n",
       "      <td>2987004</td>\n",
       "      <td>0</td>\n",
       "      <td>86506</td>\n",
       "      <td>50.0</td>\n",
       "      <td>H</td>\n",
       "      <td>4497</td>\n",
       "      <td>514.0</td>\n",
       "      <td>150.0</td>\n",
       "      <td>mastercard</td>\n",
       "      <td>102.0</td>\n",
       "      <td>...</td>\n",
       "      <td>0.0</td>\n",
       "      <td>0.0</td>\n",
       "      <td>0.0</td>\n",
       "      <td>0.0</td>\n",
       "      <td>0.0</td>\n",
       "      <td>0.0</td>\n",
       "      <td>0.0</td>\n",
       "      <td>0.0</td>\n",
       "      <td>0.0</td>\n",
       "      <td>0.0</td>\n",
       "    </tr>\n",
       "  </tbody>\n",
       "</table>\n",
       "<p>5 rows × 394 columns</p>\n",
       "</div>"
      ],
      "text/plain": [
       "   TransactionID  isFraud  TransactionDT  TransactionAmt ProductCD  card1  \\\n",
       "0        2987000        0          86400            68.5         W  13926   \n",
       "1        2987001        0          86401            29.0         W   2755   \n",
       "2        2987002        0          86469            59.0         W   4663   \n",
       "3        2987003        0          86499            50.0         W  18132   \n",
       "4        2987004        0          86506            50.0         H   4497   \n",
       "\n",
       "   card2  card3       card4  card5  ... V330  V331  V332  V333  V334 V335  \\\n",
       "0    NaN  150.0    discover  142.0  ...  NaN   NaN   NaN   NaN   NaN  NaN   \n",
       "1  404.0  150.0  mastercard  102.0  ...  NaN   NaN   NaN   NaN   NaN  NaN   \n",
       "2  490.0  150.0        visa  166.0  ...  NaN   NaN   NaN   NaN   NaN  NaN   \n",
       "3  567.0  150.0  mastercard  117.0  ...  NaN   NaN   NaN   NaN   NaN  NaN   \n",
       "4  514.0  150.0  mastercard  102.0  ...  0.0   0.0   0.0   0.0   0.0  0.0   \n",
       "\n",
       "  V336  V337  V338  V339  \n",
       "0  NaN   NaN   NaN   NaN  \n",
       "1  NaN   NaN   NaN   NaN  \n",
       "2  NaN   NaN   NaN   NaN  \n",
       "3  NaN   NaN   NaN   NaN  \n",
       "4  0.0   0.0   0.0   0.0  \n",
       "\n",
       "[5 rows x 394 columns]"
      ]
     },
     "execution_count": 3,
     "metadata": {},
     "output_type": "execute_result"
    }
   ],
   "source": [
    "data.head()"
   ]
  },
  {
   "cell_type": "code",
   "execution_count": 4,
   "metadata": {},
   "outputs": [],
   "source": [
    "target = \"isFraud\"\n",
    "numerical_features = data.drop(columns=target).select_dtypes(include=[np.number]).columns\n",
    "data = data.sort_values(by=\"TransactionID\")"
   ]
  },
  {
   "cell_type": "code",
   "execution_count": 5,
   "metadata": {},
   "outputs": [
    {
     "name": "stdout",
     "output_type": "stream",
     "text": [
      "Train size: 126000 - (70%)\n",
      "Valid size:  54000 - (30%)\n"
     ]
    }
   ],
   "source": [
    "x_train, x_valid, y_train, y_valid = train_test_split(data.drop(columns=[target]),\n",
    "                                                      data[target],\n",
    "                                                      test_size=.3,\n",
    "                                                      shuffle=False)\n",
    "\n",
    "\n",
    "print(f'Train size: {x_train.shape[0]:>5} - ({x_train.shape[0]/data.shape[0]:.0%})')\n",
    "print(f'Valid size: {x_valid.shape[0]:>6} - ({x_valid.shape[0]/data.shape[0]:.0%})')"
   ]
  },
  {
   "cell_type": "code",
   "execution_count": 6,
   "metadata": {},
   "outputs": [],
   "source": [
    "params = {\n",
    "    \"booster\": \"gbtree\",\n",
    "    \"objective\": \"binary:logistic\",\n",
    "    \"eval_metric\": \"auc\",\n",
    "    \"learning_rate\": 0.1,\n",
    "    \"reg_lambda\": 100,\n",
    "    \"max_depth\": 4,\n",
    "    \"gamma\": 10,\n",
    "    \"nthread\": -1,\n",
    "    \"seed\": 27\n",
    "}"
   ]
  },
  {
   "cell_type": "code",
   "execution_count": 7,
   "metadata": {},
   "outputs": [],
   "source": [
    "dtrain = xgb.DMatrix(data=x_train[numerical_features], label=y_train)\n",
    "dvalid = xgb.DMatrix(data=x_valid[numerical_features], label=y_valid)"
   ]
  },
  {
   "cell_type": "code",
   "execution_count": 8,
   "metadata": {},
   "outputs": [
    {
     "name": "stdout",
     "output_type": "stream",
     "text": [
      "[0]\ttrain-auc:0.602367\tvalid-auc:0.621388\n",
      "Multiple eval metrics have been passed: 'valid-auc' will be used for early stopping.\n",
      "\n",
      "Will train until valid-auc hasn't improved in 10 rounds.\n",
      "[20]\ttrain-auc:0.824025\tvalid-auc:0.830786\n",
      "[40]\ttrain-auc:0.869195\tvalid-auc:0.851911\n",
      "[60]\ttrain-auc:0.887319\tvalid-auc:0.865032\n",
      "[80]\ttrain-auc:0.894206\tvalid-auc:0.868984\n",
      "[100]\ttrain-auc:0.898754\tvalid-auc:0.87162\n",
      "[120]\ttrain-auc:0.901792\tvalid-auc:0.873412\n",
      "[140]\ttrain-auc:0.903837\tvalid-auc:0.874409\n",
      "Stopping. Best iteration:\n",
      "[133]\ttrain-auc:0.903837\tvalid-auc:0.874409\n",
      "\n"
     ]
    }
   ],
   "source": [
    "model = xgb.train(\n",
    "    params=params,\n",
    "    dtrain=dtrain,\n",
    "    num_boost_round=1000,\n",
    "    early_stopping_rounds=10,\n",
    "    evals=[(dtrain, \"train\"), (dvalid, \"valid\")],\n",
    "    verbose_eval=20,\n",
    "    maximize=True,\n",
    ")"
   ]
  },
  {
   "cell_type": "code",
   "execution_count": 9,
   "metadata": {},
   "outputs": [
    {
     "name": "stdout",
     "output_type": "stream",
     "text": [
      "Train-score:       0.90384\n",
      "Valid-score:       0.87441\n",
      "Leaderboard-score: 0.85919\n"
     ]
    }
   ],
   "source": [
    "pred_train = model.predict(xgb.DMatrix(x_train[numerical_features]))\n",
    "pred_valid = model.predict(xgb.DMatrix(x_valid[numerical_features]))\n",
    "pred_lb = model.predict(xgb.DMatrix(leaderboard[numerical_features]))\n",
    "\n",
    "print(f\"Train-score: {round(roc_auc_score(y_train, pred_train), 5):>13}\\n\"\n",
    "      f\"Valid-score: {round(roc_auc_score(y_valid, pred_valid), 5):>13}\\n\"\n",
    "      f\"Leaderboard-score: {round(roc_auc_score(leaderboard[target], pred_lb), 5):>7}\")"
   ]
  },
  {
   "cell_type": "markdown",
   "metadata": {},
   "source": [
    "Качество на валидационной выборке ниже, чем на обучающей, это говорит о небольшом переобучении модели. Качество на ЛБ ниже, чем на валидационной, это связано как с меньшим объемом выборки, так и с тем, что ЛБ выборка не участвовала в обучении."
   ]
  },
  {
   "cell_type": "markdown",
   "metadata": {},
   "source": [
    "__Задание 2:__ _сделать Hold-Out валидацию с разбиением на 3 выборки, разбиение проводить по id-транзакции (TransactionID), размер каждой выборки подобрать самостоятельно. Повторить процедуру из п.1. для каждой выборки._"
   ]
  },
  {
   "cell_type": "code",
   "execution_count": 10,
   "metadata": {},
   "outputs": [
    {
     "name": "stdout",
     "output_type": "stream",
     "text": [
      "Train size: 108000 - (60%)\n",
      "Valid size:  25200 - (14%)\n",
      "Test size:   46800 - (26%)\n"
     ]
    }
   ],
   "source": [
    "x_train, x_valid_test, y_train, y_valid_test = train_test_split(data.drop(columns=[target]),\n",
    "                                                                data[target],\n",
    "                                                                test_size=.4,\n",
    "                                                                shuffle=False)\n",
    "\n",
    "x_valid, x_test, y_valid, y_test = train_test_split(x_valid_test, y_valid_test, test_size=.65, shuffle=False)\n",
    "\n",
    "print(f'Train size: {x_train.shape[0]:>6} - ({x_train.shape[0]/data.shape[0]:.0%})')\n",
    "print(f'Valid size: {x_valid.shape[0]:>6} - ({x_valid.shape[0]/data.shape[0]:.0%})')\n",
    "print(f'Test size: {x_test.shape[0]:>7} - ({x_test.shape[0]/data.shape[0]:.0%})')"
   ]
  },
  {
   "cell_type": "code",
   "execution_count": 11,
   "metadata": {},
   "outputs": [],
   "source": [
    "dtrain = xgb.DMatrix(data=x_train[numerical_features], label=y_train)\n",
    "dvalid = xgb.DMatrix(data=x_valid[numerical_features], label=y_valid)"
   ]
  },
  {
   "cell_type": "code",
   "execution_count": 12,
   "metadata": {},
   "outputs": [
    {
     "name": "stdout",
     "output_type": "stream",
     "text": [
      "[0]\ttrain-auc:0.604832\tvalid-auc:0.59622\n",
      "Multiple eval metrics have been passed: 'valid-auc' will be used for early stopping.\n",
      "\n",
      "Will train until valid-auc hasn't improved in 10 rounds.\n",
      "[20]\ttrain-auc:0.811215\tvalid-auc:0.794206\n",
      "[40]\ttrain-auc:0.871443\tvalid-auc:0.857235\n",
      "[60]\ttrain-auc:0.888684\tvalid-auc:0.869488\n",
      "[80]\ttrain-auc:0.895684\tvalid-auc:0.873541\n",
      "[100]\ttrain-auc:0.899665\tvalid-auc:0.874048\n",
      "Stopping. Best iteration:\n",
      "[91]\ttrain-auc:0.898071\tvalid-auc:0.874623\n",
      "\n"
     ]
    }
   ],
   "source": [
    "model = xgb.train(\n",
    "    params=params,\n",
    "    dtrain=dtrain,\n",
    "    num_boost_round=1000,\n",
    "    early_stopping_rounds=10,\n",
    "    evals=[(dtrain, \"train\"), (dvalid, \"valid\")],\n",
    "    verbose_eval=20,\n",
    "    maximize=True,\n",
    ")"
   ]
  },
  {
   "cell_type": "code",
   "execution_count": 13,
   "metadata": {},
   "outputs": [
    {
     "name": "stdout",
     "output_type": "stream",
     "text": [
      "Train-score:       0.89989\n",
      "Valid-score:       0.87389\n",
      "Test-score:        0.86421\n",
      "Leaderboard-score: 0.85587\n"
     ]
    }
   ],
   "source": [
    "pred_train = model.predict(xgb.DMatrix(x_train[numerical_features]))\n",
    "pred_valid = model.predict(xgb.DMatrix(x_valid[numerical_features]))\n",
    "pred_test = model.predict(xgb.DMatrix(x_test[numerical_features]))\n",
    "pred_lb = model.predict(xgb.DMatrix(leaderboard[numerical_features]))\n",
    "\n",
    "print(f\"Train-score: {round(roc_auc_score(y_train, pred_train), 5):>13}\\n\"\n",
    "      f\"Valid-score: {round(roc_auc_score(y_valid, pred_valid), 5):>13}\\n\"\n",
    "      f\"Test-score: {round(roc_auc_score(y_test, pred_test), 5):>14}\\n\"\n",
    "      f\"Leaderboard-score: {round(roc_auc_score(leaderboard[target], pred_lb), 5):>7}\")"
   ]
  },
  {
   "cell_type": "markdown",
   "metadata": {},
   "source": [
    "Качество на ЛБ выборке приближено к тестовой выборке, т.к. тестовая не участвовала в обучении модели."
   ]
  },
  {
   "cell_type": "markdown",
   "metadata": {},
   "source": [
    "__Задание 3:__ _построить доверительный интервал на данных из п.2 на основе бутстреп выборок, оценить качество модели на ЛБ относительно полученного доверительного интервала. Сделать выводы._"
   ]
  },
  {
   "cell_type": "code",
   "execution_count": 14,
   "metadata": {},
   "outputs": [],
   "source": [
    "def create_bootstrap_samples(data: np.array, n_samples: int = 1000) -> np.array:\n",
    "    \"\"\"\n",
    "    Создание бутстреп-выборок.\n",
    "\n",
    "    Parameters\n",
    "    ----------\n",
    "    data: np.array\n",
    "        Исходная выборка, которая будет использоваться для\n",
    "        создания бутстреп выборок.\n",
    "\n",
    "    n_samples: int, optional, default = 1000\n",
    "        Количество создаваемых бутстреп выборок.\n",
    "        Опциональный параметр, по умолчанию, равен 1000.\n",
    "\n",
    "    Returns\n",
    "    -------\n",
    "    bootstrap_idx: np.array\n",
    "        Матрица индексов, для создания бутстреп выборок.\n",
    "\n",
    "    \"\"\"\n",
    "    bootstrap_idx = np.random.randint(\n",
    "        low=0, high=len(data), size=(n_samples, len(data))\n",
    "    )\n",
    "    return bootstrap_idx\n",
    "\n",
    "\n",
    "def create_bootstrap_metrics(y_true: np.array,\n",
    "                             y_pred: np.array,\n",
    "                             metric: callable,\n",
    "                             n_samlpes: int = 1000) -> List[float]:\n",
    "    \"\"\"\n",
    "    Вычисление бутстреп оценок.\n",
    "\n",
    "    Parameters\n",
    "    ----------\n",
    "    y_true: np.array\n",
    "        Вектор целевой переменной.\n",
    "\n",
    "    y_pred: np.array\n",
    "        Вектор прогнозов.\n",
    "\n",
    "    metric: callable\n",
    "        Функция для вычисления метрики.\n",
    "        Функция должна принимать 2 аргумента: y_true, y_pred.\n",
    "\n",
    "    n_samples: int, optional, default = 1000\n",
    "        Количество создаваемых бутстреп выборок.\n",
    "        Опциональный параметр, по умолчанию, равен 1000.\n",
    "\n",
    "    Returns\n",
    "    -------\n",
    "    bootstrap_metrics: List[float]\n",
    "        Список со значениями метрики качества на каждой бустреп выборке.\n",
    "\n",
    "    \"\"\"\n",
    "    scores = []\n",
    "\n",
    "    if isinstance(y_true, pd.Series):\n",
    "        y_true = y_true.values\n",
    "\n",
    "    bootstrap_idx = create_bootstrap_samples(y_true)\n",
    "    for idx in bootstrap_idx:\n",
    "        y_true_bootstrap = y_true[idx]\n",
    "        y_pred_bootstrap = y_pred[idx]\n",
    "\n",
    "        score = metric(y_true_bootstrap, y_pred_bootstrap)\n",
    "        scores.append(score)\n",
    "\n",
    "    return scores\n",
    "\n",
    "\n",
    "def calculate_confidence_interval(scores: list, conf_interval: float = 0.95) -> Tuple[float]:\n",
    "    \"\"\"\n",
    "    Вычисление доверительного интервала.\n",
    "\n",
    "    Parameters\n",
    "    ----------\n",
    "    scores: List[float / int]\n",
    "        Список с оценками изучаемой величины.\n",
    "\n",
    "    conf_interval: float, optional, default = 0.95\n",
    "        Уровень доверия для построения интервала.\n",
    "        Опциональный параметр, по умолчанию, равен 0.95.\n",
    "\n",
    "    Returns\n",
    "    -------\n",
    "    conf_interval: Tuple[float]\n",
    "        Кортеж с границами доверительного интервала.\n",
    "\n",
    "    \"\"\"\n",
    "    left_bound = np.percentile(\n",
    "        scores, ((1 - conf_interval) / 2) * 100\n",
    "    )\n",
    "    right_bound = np.percentile(\n",
    "        scores, (conf_interval + ((1 - conf_interval) / 2)) * 100\n",
    "    )\n",
    "\n",
    "    return left_bound, right_bound"
   ]
  },
  {
   "cell_type": "code",
   "execution_count": 15,
   "metadata": {},
   "outputs": [
    {
     "data": {
      "text/plain": [
       "(0.8537611962888333, 0.8749215252000783)"
      ]
     },
     "execution_count": 15,
     "metadata": {},
     "output_type": "execute_result"
    }
   ],
   "source": [
    "np.random.seed(27)\n",
    "scores = create_bootstrap_metrics(y_test, pred_test, roc_auc_score)\n",
    "\n",
    "calculate_confidence_interval(scores)"
   ]
  },
  {
   "cell_type": "code",
   "execution_count": 16,
   "metadata": {},
   "outputs": [
    {
     "data": {
      "image/png": "[encoded data removed]",
      "text/plain": [
       "<Figure size 1080x360 with 2 Axes>"
      ]
     },
     "metadata": {
      "needs_background": "light"
     },
     "output_type": "display_data"
    }
   ],
   "source": [
    "fig, axes = plt.subplots(1, 2, figsize=(15, 5))\n",
    "plt.suptitle(\"Bootstrap for evaluating validation stability\", size=15)\n",
    "axes[1].scatter(range(len(scores)), scores, alpha=0.25, color=\"blue\")\n",
    "axes[1].set_xlabel(\"sampel number\", size=15)\n",
    "axes[1].set_ylabel(\"ROC-AUC score\", size=15)\n",
    "\n",
    "sns.histplot(scores, ax=axes[0], color=\"b\", bins=20, kde=True)\n",
    "axes[0].set_xlabel(\"ROC-AUC score\", size=15);"
   ]
  },
  {
   "cell_type": "markdown",
   "metadata": {},
   "source": [
    "Мы получили очень узкий доверительный интервал и значение качества на ЛБ выборке в него попадает, что говорит об эффективности использования Hold-Out валидации с разбиением на 3 выборки для прогнозирования качества на ЛБ выборке по тестовой выборке."
   ]
  },
  {
   "cell_type": "markdown",
   "metadata": {},
   "source": [
    "__Задание 4:__ _выполнить Adversarial Validation, подобрать объекты из обучающей выборки, которые сильно похожи на объекты из assignment_2_test.csv, и использовать их в качестве валидационного набора. Оценить качество модели на ЛБ, сделать выводы о полученных результатах._"
   ]
  },
  {
   "cell_type": "code",
   "execution_count": 17,
   "metadata": {},
   "outputs": [],
   "source": [
    "adv = pd.concat([data, leaderboard], keys=[0, 1]) # data=0, leaderboard=1\n",
    "y_adv = adv.index.droplevel(1).to_numpy()"
   ]
  },
  {
   "cell_type": "code",
   "execution_count": 18,
   "metadata": {},
   "outputs": [],
   "source": [
    "model = xgb.XGBClassifier(n_estimators=25)\n",
    "model.fit(adv[numerical_features], y_adv);"
   ]
  },
  {
   "cell_type": "code",
   "execution_count": 19,
   "metadata": {},
   "outputs": [
    {
     "name": "stdout",
     "output_type": "stream",
     "text": [
      "1.0\n"
     ]
    }
   ],
   "source": [
    "y_pred_adv = model.predict_proba(adv[numerical_features])\n",
    "score = roc_auc_score(y_adv, y_pred_adv[:, 1])\n",
    "print(round(score, 4))"
   ]
  },
  {
   "cell_type": "code",
   "execution_count": 20,
   "metadata": {},
   "outputs": [
    {
     "data": {
      "text/plain": [
       "(0.0, 0.1]    180000\n",
       "(0.1, 0.2]         0\n",
       "(0.2, 0.3]         0\n",
       "(0.3, 0.4]         0\n",
       "(0.4, 0.5]         0\n",
       "(0.5, 0.6]         0\n",
       "(0.6, 0.7]         0\n",
       "(0.7, 0.8]         0\n",
       "(0.8, 0.9]         0\n",
       "(0.9, 1.0]         0\n",
       "dtype: int64"
      ]
     },
     "execution_count": 20,
     "metadata": {},
     "output_type": "execute_result"
    }
   ],
   "source": [
    "y_pred = model.predict_proba(data[numerical_features])\n",
    "pd.cut(y_pred[:, 1], bins=np.arange(0, 1.01, 0.1)).value_counts().sort_index()"
   ]
  },
  {
   "cell_type": "markdown",
   "metadata": {},
   "source": [
    "Модель легко классифицирует выборки, т.к. есть значения переменных, которые явно указывают на выборку, удалим их из выборок."
   ]
  },
  {
   "cell_type": "code",
   "execution_count": 21,
   "metadata": {},
   "outputs": [],
   "source": [
    "drop_list = ['TransactionID', 'TransactionDT']\n",
    "adv = pd.concat([data, leaderboard], keys=[0, 1]).drop(columns=drop_list) # data=0, leaderboard=1\n",
    "y_adv = adv.index.droplevel(1).to_numpy()"
   ]
  },
  {
   "cell_type": "code",
   "execution_count": 22,
   "metadata": {},
   "outputs": [],
   "source": [
    "model = xgb.XGBClassifier(n_estimators=25)\n",
    "model.fit(adv[np.setdiff1d(numerical_features, drop_list)], y_adv);"
   ]
  },
  {
   "cell_type": "code",
   "execution_count": 23,
   "metadata": {},
   "outputs": [
    {
     "name": "stdout",
     "output_type": "stream",
     "text": [
      "0.8408\n"
     ]
    }
   ],
   "source": [
    "y_pred_adv = model.predict_proba(adv[np.setdiff1d(numerical_features, drop_list)])\n",
    "score = roc_auc_score(y_adv, y_pred_adv[:, 1])\n",
    "print(round(score, 4))"
   ]
  },
  {
   "cell_type": "code",
   "execution_count": 24,
   "metadata": {},
   "outputs": [],
   "source": [
    "del adv # освобождение части RAM"
   ]
  },
  {
   "cell_type": "code",
   "execution_count": 25,
   "metadata": {},
   "outputs": [
    {
     "data": {
      "text/plain": [
       "(0.0, 0.1]        0\n",
       "(0.1, 0.2]    57969\n",
       "(0.2, 0.3]    59036\n",
       "(0.3, 0.4]    38846\n",
       "(0.4, 0.5]    23629\n",
       "(0.5, 0.6]      136\n",
       "(0.6, 0.7]       36\n",
       "(0.7, 0.8]       47\n",
       "(0.8, 0.9]      300\n",
       "(0.9, 1.0]        1\n",
       "dtype: int64"
      ]
     },
     "execution_count": 25,
     "metadata": {},
     "output_type": "execute_result"
    }
   ],
   "source": [
    "y_pred = model.predict_proba(data[np.setdiff1d(numerical_features, drop_list)])\n",
    "pd.cut(y_pred[:, 1], bins=np.arange(0, 1.01, 0.1)).value_counts().sort_index()"
   ]
  },
  {
   "cell_type": "code",
   "execution_count": 26,
   "metadata": {},
   "outputs": [
    {
     "name": "stdout",
     "output_type": "stream",
     "text": [
      "Индексы наиболее похожих объектов:\n",
      " [173752 177036 163066 ...  69967  29290 157024] \n",
      "Количество индексов:\n",
      " 54000\n"
     ]
    }
   ],
   "source": [
    "valid_size = 0.3\n",
    "idx_valid = y_pred[:, 1].argsort()[::-1][:int(valid_size*len(y_pred[:, 1]))] # индексы наиболее похожих объектов\n",
    "\n",
    "print(\"Индексы наиболее похожих объектов:\\n\", idx_valid, \"\\nКоличество индексов:\\n\", len(idx_valid))\n",
    "\n",
    "idx_valid.sort() # сортировка для сохранения первоначального порядка наблюдений\n",
    "idx_train = np.setdiff1d(range(data.shape[0]), idx_valid) # остальные индексы"
   ]
  },
  {
   "cell_type": "code",
   "execution_count": 27,
   "metadata": {},
   "outputs": [
    {
     "name": "stdout",
     "output_type": "stream",
     "text": [
      "Train size: 126000 - (70%)\n",
      "Valid size:  54000 - (30%)\n"
     ]
    }
   ],
   "source": [
    "x_train, y_train = data.loc[idx_train][numerical_features], data.loc[idx_train][target]\n",
    "x_valid, y_valid = data.loc[idx_valid][numerical_features], data.loc[idx_valid][target]\n",
    "\n",
    "print(f'Train size: {x_train.shape[0]:>5} - ({x_train.shape[0]/data.shape[0]:.0%})')\n",
    "print(f'Valid size: {x_valid.shape[0]:>6} - ({x_valid.shape[0]/data.shape[0]:.0%})')"
   ]
  },
  {
   "cell_type": "code",
   "execution_count": 28,
   "metadata": {},
   "outputs": [],
   "source": [
    "dtrain = xgb.DMatrix(data=x_train, label=y_train)\n",
    "dvalid = xgb.DMatrix(data=x_valid, label=y_valid)"
   ]
  },
  {
   "cell_type": "code",
   "execution_count": 29,
   "metadata": {},
   "outputs": [
    {
     "name": "stdout",
     "output_type": "stream",
     "text": [
      "[0]\ttrain-auc:0.599312\tvalid-auc:0.64508\n",
      "Multiple eval metrics have been passed: 'valid-auc' will be used for early stopping.\n",
      "\n",
      "Will train until valid-auc hasn't improved in 10 rounds.\n",
      "[20]\ttrain-auc:0.790071\tvalid-auc:0.843913\n",
      "[40]\ttrain-auc:0.854778\tvalid-auc:0.864757\n",
      "[60]\ttrain-auc:0.875963\tvalid-auc:0.875432\n",
      "[80]\ttrain-auc:0.883793\tvalid-auc:0.879641\n",
      "[100]\ttrain-auc:0.889773\tvalid-auc:0.882052\n",
      "[120]\ttrain-auc:0.893146\tvalid-auc:0.883235\n",
      "[140]\ttrain-auc:0.895111\tvalid-auc:0.883701\n",
      "Stopping. Best iteration:\n",
      "[143]\ttrain-auc:0.895561\tvalid-auc:0.884047\n",
      "\n"
     ]
    }
   ],
   "source": [
    "model = xgb.train(\n",
    "    params=params,\n",
    "    dtrain=dtrain,\n",
    "    num_boost_round=1000,\n",
    "    early_stopping_rounds=10,\n",
    "    evals=[(dtrain, \"train\"), (dvalid, \"valid\")],\n",
    "    verbose_eval=20,\n",
    "    maximize=True,\n",
    ")"
   ]
  },
  {
   "cell_type": "code",
   "execution_count": 30,
   "metadata": {},
   "outputs": [
    {
     "name": "stdout",
     "output_type": "stream",
     "text": [
      "Train-score:       0.89556\n",
      "Valid-score:       0.88405\n",
      "Leaderboard-score: 0.84911\n"
     ]
    }
   ],
   "source": [
    "pred_train = model.predict(xgb.DMatrix(x_train))\n",
    "pred_valid = model.predict(xgb.DMatrix(x_valid))\n",
    "pred_lb = model.predict(xgb.DMatrix(leaderboard[numerical_features]))\n",
    "\n",
    "print(f\"Train-score: {round(roc_auc_score(y_train, pred_train), 5):>13}\\n\"\n",
    "      f\"Valid-score: {round(roc_auc_score(y_valid, pred_valid), 5):>13}\\n\"\n",
    "      f\"Leaderboard-score: {round(roc_auc_score(leaderboard[target], pred_lb), 5):>7}\")"
   ]
  },
  {
   "cell_type": "markdown",
   "metadata": {},
   "source": [
    "Качество, по сравнению с заданием 1, немного хуже на тренировочной и ЛБ выборках, и выше на валидационной, это объясняется тем, что модель лучше подстроилась под валидационную выборку, и тем, что выборки - это временные ряды, и сами выборки были отсортированы по id транзакции, а выбирая наиболее похожие наблюдения из выборки для валидации, мы нарушили исходные распределения признаков."
   ]
  },
  {
   "cell_type": "markdown",
   "metadata": {},
   "source": [
    "__Задание 5:__ _сделать KFold / StratifiedKFold валидацию (на ваше усмотрение), оценить получаемые качество и разброс по метрике качества. Сделать выводы об устойчивости кросс-валидации, сходимости оценки на кросс-валидации и отложенном наборе данных; Оценить качество на ЛБ, сделать выводы._"
   ]
  },
  {
   "cell_type": "code",
   "execution_count": 31,
   "metadata": {},
   "outputs": [],
   "source": [
    "def make_cross_validation_xgb(X: pd.DataFrame,\n",
    "                              y: pd.Series,\n",
    "                              estimator: object,\n",
    "                              params: dict,\n",
    "                              metric: callable,\n",
    "                              cv_strategy,\n",
    "                              groups=None):\n",
    "    \"\"\"\n",
    "    Кросс-валидация.\n",
    "\n",
    "    Parameters\n",
    "    ----------\n",
    "    X: pd.DataFrame\n",
    "        Матрица признаков.\n",
    "\n",
    "    y: pd.Series\n",
    "        Вектор целевой переменной.\n",
    "\n",
    "    estimator: callable\n",
    "        Объект модели для обучения.\n",
    "\n",
    "    metric: callable\n",
    "        Метрика для оценки качества решения.\n",
    "        Ожидается, что на вход будет передана функция,\n",
    "        которая принимает 2 аргумента: y_true, y_pred.\n",
    "\n",
    "    cv_strategy: cross-validation generator\n",
    "        Объект для описания стратегии кросс-валидации.\n",
    "        Ожидается, что на вход будет передан объект типа\n",
    "        KFold или StratifiedKFold.\n",
    "\n",
    "    Returns\n",
    "    -------\n",
    "    oof_score: float\n",
    "        Значение метрики качества на OOF-прогнозах.\n",
    "\n",
    "    fold_train_scores: List[float]\n",
    "        Значение метрики качества на каждом обучающем датасете кросс-валидации.\n",
    "\n",
    "    fold_valid_scores: List[float]\n",
    "        Значение метрики качества на каждом валидационном датасете кросс-валидации.\n",
    "\n",
    "    oof_predictions: np.array\n",
    "        Прогнозы на OOF.\n",
    "\n",
    "    \"\"\"\n",
    "    models, fold_train_scores, fold_valid_scores = [], [], []\n",
    "    oof_predictions = np.zeros(X.shape[0])\n",
    "\n",
    "\n",
    "    for fold_number, (train_idx, valid_idx) in enumerate(cv_strategy.split(X, y, groups)):\n",
    "        x_train, x_valid = X.loc[train_idx], X.loc[valid_idx]\n",
    "        y_train, y_valid = y.loc[train_idx], y.loc[valid_idx]\n",
    "        \n",
    "        dtrain = xgb.DMatrix(data=x_train, label=y_train)\n",
    "        dvalid = xgb.DMatrix(data=x_valid, label=y_valid)\n",
    "\n",
    "        model = estimator.train(params=params,\n",
    "                                dtrain=dtrain,\n",
    "                                num_boost_round=1000,\n",
    "                                early_stopping_rounds=10,\n",
    "                                evals=[(dtrain, \"train\"), (dvalid, \"valid\")],\n",
    "                                verbose_eval=False,\n",
    "                                maximize=True)\n",
    "        \n",
    "        y_train_pred = model.predict(xgb.DMatrix(x_train))\n",
    "        y_valid_pred = model.predict(xgb.DMatrix(x_valid))\n",
    "\n",
    "        fold_train_scores.append(metric(y_train, y_train_pred))\n",
    "        fold_valid_scores.append(metric(y_valid, y_valid_pred))\n",
    "        oof_predictions[valid_idx] = y_valid_pred\n",
    "\n",
    "        msg = (\n",
    "            f\"Fold: {fold_number+1}, train-observations = {len(train_idx)}, \"\n",
    "            f\"valid-observations = {len(valid_idx)}\\n\"\n",
    "            f\"train-{metric.__name__} = {round(fold_train_scores[fold_number], 4)}\\n\"\n",
    "            f\"valid-{metric.__name__} = {round(fold_valid_scores[fold_number], 4)}\" \n",
    "        )\n",
    "        print(msg)\n",
    "        print(\"=\"*69)\n",
    "        models.append(model)\n",
    "\n",
    "    oof_score = metric(y, oof_predictions)\n",
    "    print(f\"CV-{metric.__name__} train: {round(np.mean(fold_train_scores), 4)} +/- {round(np.std(fold_train_scores), 3)}\")\n",
    "    print(f\"CV-{metric.__name__} valid: {round(np.mean(fold_valid_scores), 4)} +/- {round(np.std(fold_valid_scores), 3)}\")\n",
    "    print(f\"OOF-{metric.__name__} = {round(oof_score, 4)}\")\n",
    "\n",
    "    return models, oof_score, fold_train_scores, fold_valid_scores, oof_predictions"
   ]
  },
  {
   "cell_type": "code",
   "execution_count": 32,
   "metadata": {},
   "outputs": [
    {
     "name": "stdout",
     "output_type": "stream",
     "text": [
      "Fold: 1, train-observations = 144000, valid-observations = 36000\n",
      "train-roc_auc_score = 0.9152\n",
      "valid-roc_auc_score = 0.8728\n",
      "=====================================================================\n",
      "Fold: 2, train-observations = 144000, valid-observations = 36000\n",
      "train-roc_auc_score = 0.9075\n",
      "valid-roc_auc_score = 0.8926\n",
      "=====================================================================\n",
      "Fold: 3, train-observations = 144000, valid-observations = 36000\n",
      "train-roc_auc_score = 0.8853\n",
      "valid-roc_auc_score = 0.8501\n",
      "=====================================================================\n",
      "Fold: 4, train-observations = 144000, valid-observations = 36000\n",
      "train-roc_auc_score = 0.8797\n",
      "valid-roc_auc_score = 0.7859\n",
      "=====================================================================\n",
      "Fold: 5, train-observations = 144000, valid-observations = 36000\n",
      "train-roc_auc_score = 0.8114\n",
      "valid-roc_auc_score = 0.4228\n",
      "=====================================================================\n",
      "CV-roc_auc_score train: 0.8798 +/- 0.037\n",
      "CV-roc_auc_score valid: 0.7648 +/- 0.175\n",
      "OOF-roc_auc_score = 0.7366\n"
     ]
    }
   ],
   "source": [
    "cv_strategy = StratifiedKFold(n_splits=5)\n",
    "\n",
    "models, oof_score, fold_train_scores, fold_valid_scores, oof_predictions = make_cross_validation_xgb(\n",
    "    data[numerical_features], \n",
    "    data[target], \n",
    "    estimator=xgb,\n",
    "    params=params,\n",
    "    metric=roc_auc_score, \n",
    "    cv_strategy=cv_strategy,\n",
    "    groups=None\n",
    ")"
   ]
  },
  {
   "cell_type": "code",
   "execution_count": 33,
   "metadata": {},
   "outputs": [
    {
     "name": "stdout",
     "output_type": "stream",
     "text": [
      "Model[1] - Leaderboard-score: 0.85675\n",
      "Model[2] - Leaderboard-score: 0.85676\n",
      "Model[3] - Leaderboard-score: 0.85048\n",
      "Model[4] - Leaderboard-score: 0.8463\n",
      "Model[5] - Leaderboard-score: 0.432\n"
     ]
    }
   ],
   "source": [
    "dleader = xgb.DMatrix(leaderboard[numerical_features])\n",
    "for i, model in enumerate(models, start=1):\n",
    "    pred_lb = model.predict(dleader)\n",
    "    print(f\"Model[{i}] - Leaderboard-score: {round(roc_auc_score(leaderboard[target], pred_lb), 5)}\")"
   ]
  },
  {
   "cell_type": "markdown",
   "metadata": {},
   "source": [
    "Кросс-валидация неустойчивая, очень большая дисперсия ROC AUC на валидационной выборке, что говорит о неоднородности данных, и необходимости их обработки. На ЛБ модели показали похожее качество, кроме одной, которая показала низкое качество как на тренировочной выборке, так и на валидационной."
   ]
  },
  {
   "cell_type": "markdown",
   "metadata": {},
   "source": [
    "__Задание 6 (опциональное):__ _сделать Hold-Out валидацию по времени (TransactionDT), повторить процедуры из п.1 / п.2 (на ваш выбор). Построить доверительный интервал, сравнить качество на ЛБ выборке с полученным доверительным интервалом. Сделать выводы._"
   ]
  },
  {
   "cell_type": "code",
   "execution_count": 34,
   "metadata": {},
   "outputs": [],
   "source": [
    "data = data.sort_values(by=\"TransactionDT\")"
   ]
  },
  {
   "cell_type": "code",
   "execution_count": 35,
   "metadata": {},
   "outputs": [
    {
     "name": "stdout",
     "output_type": "stream",
     "text": [
      "Train size: 108000 - (60%)\n",
      "Valid size:  25200 - (14%)\n",
      "Test size:   46800 - (26%)\n"
     ]
    }
   ],
   "source": [
    "x_train, x_valid_test, y_train, y_valid_test = train_test_split(data.drop(columns=[target]),\n",
    "                                                                data[target],\n",
    "                                                                test_size=.4,\n",
    "                                                                shuffle=False)\n",
    "\n",
    "x_valid, x_test, y_valid, y_test = train_test_split(x_valid_test, y_valid_test, test_size=.65, shuffle=False)\n",
    "\n",
    "print(f'Train size: {x_train.shape[0]:>6} - ({x_train.shape[0]/data.shape[0]:.0%})')\n",
    "print(f'Valid size: {x_valid.shape[0]:>6} - ({x_valid.shape[0]/data.shape[0]:.0%})')\n",
    "print(f'Test size: {x_test.shape[0]:>7} - ({x_test.shape[0]/data.shape[0]:.0%})')"
   ]
  },
  {
   "cell_type": "code",
   "execution_count": 36,
   "metadata": {},
   "outputs": [],
   "source": [
    "dtrain = xgb.DMatrix(data=x_train[numerical_features], label=y_train)\n",
    "dvalid = xgb.DMatrix(data=x_valid[numerical_features], label=y_valid)"
   ]
  },
  {
   "cell_type": "code",
   "execution_count": 37,
   "metadata": {},
   "outputs": [
    {
     "name": "stdout",
     "output_type": "stream",
     "text": [
      "[0]\ttrain-auc:0.604832\tvalid-auc:0.59622\n",
      "Multiple eval metrics have been passed: 'valid-auc' will be used for early stopping.\n",
      "\n",
      "Will train until valid-auc hasn't improved in 10 rounds.\n",
      "[20]\ttrain-auc:0.811215\tvalid-auc:0.794206\n",
      "[40]\ttrain-auc:0.871443\tvalid-auc:0.857235\n",
      "[60]\ttrain-auc:0.888684\tvalid-auc:0.869488\n",
      "[80]\ttrain-auc:0.895684\tvalid-auc:0.873541\n",
      "[100]\ttrain-auc:0.899665\tvalid-auc:0.874048\n",
      "Stopping. Best iteration:\n",
      "[91]\ttrain-auc:0.898071\tvalid-auc:0.874623\n",
      "\n"
     ]
    }
   ],
   "source": [
    "model = xgb.train(\n",
    "    params=params,\n",
    "    dtrain=dtrain,\n",
    "    num_boost_round=1000,\n",
    "    early_stopping_rounds=10,\n",
    "    evals=[(dtrain, \"train\"), (dvalid, \"valid\")],\n",
    "    verbose_eval=20,\n",
    "    maximize=True,\n",
    ")"
   ]
  },
  {
   "cell_type": "code",
   "execution_count": 38,
   "metadata": {},
   "outputs": [
    {
     "name": "stdout",
     "output_type": "stream",
     "text": [
      "Train-score:       0.89989\n",
      "Valid-score:       0.87389\n",
      "Test-score:        0.86421\n",
      "Leaderboard-score: 0.85587\n"
     ]
    }
   ],
   "source": [
    "pred_train = model.predict(xgb.DMatrix(x_train[numerical_features]))\n",
    "pred_valid = model.predict(xgb.DMatrix(x_valid[numerical_features]))\n",
    "pred_test = model.predict(xgb.DMatrix(x_test[numerical_features]))\n",
    "pred_lb = model.predict(xgb.DMatrix(leaderboard[numerical_features]))\n",
    "\n",
    "print(f\"Train-score: {round(roc_auc_score(y_train, pred_train), 5):>13}\\n\"\n",
    "      f\"Valid-score: {round(roc_auc_score(y_valid, pred_valid), 5):>13}\\n\"\n",
    "      f\"Test-score: {round(roc_auc_score(y_test, pred_test), 5):>14}\\n\"\n",
    "      f\"Leaderboard-score: {round(roc_auc_score(leaderboard[target], pred_lb), 5):>7}\")"
   ]
  },
  {
   "cell_type": "code",
   "execution_count": 39,
   "metadata": {},
   "outputs": [
    {
     "data": {
      "text/plain": [
       "(0.8536963906044648, 0.8752953295201406)"
      ]
     },
     "execution_count": 39,
     "metadata": {},
     "output_type": "execute_result"
    }
   ],
   "source": [
    "np.random.seed(27)\n",
    "scores = create_bootstrap_metrics(y_test, pred_test, roc_auc_score)\n",
    "\n",
    "calculate_confidence_interval(scores)"
   ]
  },
  {
   "cell_type": "code",
   "execution_count": 40,
   "metadata": {},
   "outputs": [
    {
     "data": {
      "image/png": "[encoded data removed]",
      "text/plain": [
       "<Figure size 1080x360 with 2 Axes>"
      ]
     },
     "metadata": {
      "needs_background": "light"
     },
     "output_type": "display_data"
    }
   ],
   "source": [
    "fig, axes = plt.subplots(1, 2, figsize=(15, 5))\n",
    "plt.suptitle(\"Bootstrap for evaluating validation stability\", size=15)\n",
    "axes[1].scatter(range(len(scores)), scores, alpha=0.25, color=\"blue\")\n",
    "axes[1].set_xlabel(\"sampel number\", size=15)\n",
    "axes[1].set_ylabel(\"ROC-AUC score\", size=15)\n",
    "\n",
    "sns.histplot(scores, ax=axes[0], color=\"b\", bins=20, kde=True)\n",
    "axes[0].set_xlabel(\"ROC-AUC score\", size=15);"
   ]
  },
  {
   "cell_type": "markdown",
   "metadata": {},
   "source": [
    "Поскольку время транзакции тесно связано с ее id, то результаты идентичны п.2 и 3."
   ]
  },
  {
   "cell_type": "markdown",
   "metadata": {},
   "source": [
    "__Задание 7 (совсем опциональное):__ _в данном наборе данных у нас есть ID-транзакции (TransactionID) и время транзакции (TransactionDT), но отсутствует ID-клиента, который совершал транзакции. Кажется, что в этой задаче валидация по клиенту работала бы хорошо. Предложить критерий, по которому можно выделить клиентов и сделать п.5, используя созданное определение клиента, используя валидацию по клиенту (GroupKFold)._"
   ]
  },
  {
   "cell_type": "markdown",
   "metadata": {},
   "source": [
    "В качестве своеобразного id клиента можно использовать категориальные переменные, т.к. id и время транзакций не привязано к определенным клиентам, числовые переменные сложно однозначно классифицировать на клиентов.\n",
    "\n",
    "Разные значения переменных 'card6', 'ProductCD' и т.д. могут относиться к одному клиенту, т.к. он может быть держателем разных карт (Visa, MasterCard и т.д.) и эти карты могут быть разного типа ('credit', 'debit' и т.д.). Можно использовать 'P_emaildomain' и 'R_emaildomain', т.е. домены электронной почты (возможно основной \"Primary\" и резервный \"Reserve\"), т.к. это многоклассовая переменная. \n",
    "\n",
    "Для увеличения количества групп будем использовать конкатенацию разных категориальных переменных, которые могут классифицировать разных клиентов."
   ]
  },
  {
   "cell_type": "code",
   "execution_count": 41,
   "metadata": {},
   "outputs": [
    {
     "data": {
      "text/plain": [
       "Index(['ProductCD', 'card4', 'card6', 'P_emaildomain', 'R_emaildomain', 'M1',\n",
       "       'M2', 'M3', 'M4', 'M5', 'M6', 'M7', 'M8', 'M9'],\n",
       "      dtype='object')"
      ]
     },
     "execution_count": 41,
     "metadata": {},
     "output_type": "execute_result"
    }
   ],
   "source": [
    "data.select_dtypes(exclude=[np.number]).columns"
   ]
  },
  {
   "cell_type": "code",
   "execution_count": 42,
   "metadata": {},
   "outputs": [],
   "source": [
    "data['concat_id'] = data['P_emaildomain'].fillna(value='-') + \\\n",
    "    data['R_emaildomain'].fillna(value='-') + \\\n",
    "    data['ProductCD'].fillna(value='-') + \\\n",
    "    data['card4'].fillna(value='-') + \\\n",
    "    data['card6'].fillna(value='-')\n",
    "data['concat_id'].fillna(value='-', inplace=True)"
   ]
  },
  {
   "cell_type": "code",
   "execution_count": 43,
   "metadata": {},
   "outputs": [
    {
     "data": {
      "text/plain": [
       "gmail.com-Wvisadebit                      24502\n",
       "--Wvisadebit                              13617\n",
       "yahoo.com-Wvisadebit                      12889\n",
       "gmail.com-Wmastercarddebit                10630\n",
       "--Wmastercarddebit                         6814\n",
       "                                          ...  \n",
       "verizon.netmsn.comHvisadebit                  1\n",
       "comcast.neticloud.comHmastercardcredit        1\n",
       "twc.comtwc.comRvisadebit                      1\n",
       "aol.comsbcglobal.netHmastercarddebit          1\n",
       "yahoo.deyahoo.deCvisacharge card              1\n",
       "Name: concat_id, Length: 2766, dtype: int64"
      ]
     },
     "execution_count": 43,
     "metadata": {},
     "output_type": "execute_result"
    }
   ],
   "source": [
    "data['concat_id'].value_counts()"
   ]
  },
  {
   "cell_type": "code",
   "execution_count": 44,
   "metadata": {},
   "outputs": [
    {
     "name": "stdout",
     "output_type": "stream",
     "text": [
      "Fold: 1, train-observations = 144000, valid-observations = 36000\n",
      "train-roc_auc_score = 0.9156\n",
      "valid-roc_auc_score = 0.825\n",
      "=====================================================================\n",
      "Fold: 2, train-observations = 144000, valid-observations = 36000\n",
      "train-roc_auc_score = 0.9041\n",
      "valid-roc_auc_score = 0.8549\n",
      "=====================================================================\n",
      "Fold: 3, train-observations = 144000, valid-observations = 36000\n",
      "train-roc_auc_score = 0.9111\n",
      "valid-roc_auc_score = 0.8758\n",
      "=====================================================================\n",
      "Fold: 4, train-observations = 144000, valid-observations = 36000\n",
      "train-roc_auc_score = 0.9008\n",
      "valid-roc_auc_score = 0.9262\n",
      "=====================================================================\n",
      "Fold: 5, train-observations = 144000, valid-observations = 36000\n",
      "train-roc_auc_score = 0.9057\n",
      "valid-roc_auc_score = 0.8614\n",
      "=====================================================================\n",
      "CV-roc_auc_score train: 0.9075 +/- 0.005\n",
      "CV-roc_auc_score valid: 0.8687 +/- 0.033\n",
      "OOF-roc_auc_score = 0.8743\n"
     ]
    }
   ],
   "source": [
    "cv_strategy = GroupKFold(n_splits=5)\n",
    "\n",
    "models, oof_score, fold_train_scores, fold_valid_scores, oof_predictions = make_cross_validation_xgb(\n",
    "    data[numerical_features], \n",
    "    data[target], \n",
    "    estimator=xgb,\n",
    "    params=params,\n",
    "    metric=roc_auc_score, \n",
    "    cv_strategy=cv_strategy,\n",
    "    groups=data['concat_id']\n",
    ")"
   ]
  },
  {
   "cell_type": "code",
   "execution_count": 45,
   "metadata": {},
   "outputs": [
    {
     "name": "stdout",
     "output_type": "stream",
     "text": [
      "Model[1] - Leaderboard-score: 0.85489\n",
      "Model[2] - Leaderboard-score: 0.85299\n",
      "Model[3] - Leaderboard-score: 0.85927\n",
      "Model[4] - Leaderboard-score: 0.85989\n",
      "Model[5] - Leaderboard-score: 0.85834\n"
     ]
    }
   ],
   "source": [
    "dleader = xgb.DMatrix(leaderboard[numerical_features])\n",
    "for i, model in enumerate(models, start=1):\n",
    "    pred_lb = model.predict(dleader)\n",
    "    print(f\"Model[{i}] - Leaderboard-score: {round(roc_auc_score(leaderboard[target], pred_lb), 5)}\")"
   ]
  },
  {
   "cell_type": "markdown",
   "metadata": {},
   "source": [
    "В целом качество и стабильность модели выше, что говорит об эффективности разделения выборки по своеобразному id клиента."
   ]
  }
 ],
 "metadata": {
  "kernelspec": {
   "display_name": "Environment (conda_p37)",
   "language": "python",
   "name": "conda_p37"
  },
  "language_info": {
   "codemirror_mode": {
    "name": "ipython",
    "version": 3
   },
   "file_extension": ".py",
   "mimetype": "text/x-python",
   "name": "python",
   "nbconvert_exporter": "python",
   "pygments_lexer": "ipython3",
   "version": "3.7.9"
  }
 },
 "nbformat": 4,
 "nbformat_minor": 4
}
